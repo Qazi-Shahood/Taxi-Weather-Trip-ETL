{
 "cells": [
  {
   "cell_type": "markdown",
   "metadata": {
    "application/vnd.databricks.v1+cell": {
     "cellMetadata": {
      "byteLimit": 2048000,
      "rowLimit": 10000
     },
     "inputWidgets": {},
     "nuid": "30d3c4b6-6ca0-4e4c-b4e6-db1f5d25f181",
     "showTitle": false,
     "tableResultSettingsMap": {},
     "title": ""
    }
   },
   "source": [
    "Bronze Layer"
   ]
  },
  {
   "cell_type": "code",
   "execution_count": 0,
   "metadata": {
    "application/vnd.databricks.v1+cell": {
     "cellMetadata": {
      "byteLimit": 2048000,
      "rowLimit": 10000
     },
     "inputWidgets": {},
     "nuid": "b499a33a-3f7d-4558-9a88-091e79f747c7",
     "showTitle": false,
     "tableResultSettingsMap": {},
     "title": ""
    }
   },
   "outputs": [],
   "source": [
    "from pyspark.sql import SparkSession, functions as F\n",
    "from pyspark.sql.functions import to_date, col, udf, from_unixtime, split, date_format, unix_timestamp\n",
    "\n",
    "spark = SparkSession.builder.appName(\"NYC_Trip_ETL\").getOrCreate()\n",
    "\n",
    "trip_df = spark.read.parquet(\"/Volumes/workspace/nyc_trips_etl/bronze_layer/yellow_tripdata.parquet\", inferSchema=True, header=True)\n",
    "weather_df = spark.read.csv('/Volumes/workspace/nyc_trips_etl/bronze_layer/weather.csv', inferSchema=True, header=True)\n"
   ]
  },
  {
   "cell_type": "markdown",
   "metadata": {
    "application/vnd.databricks.v1+cell": {
     "cellMetadata": {
      "byteLimit": 2048000,
      "rowLimit": 10000
     },
     "inputWidgets": {},
     "nuid": "c533b3f1-6f96-4e06-a46d-2a65dbccabe9",
     "showTitle": false,
     "tableResultSettingsMap": {},
     "title": ""
    }
   },
   "source": [
    "Silver Layer"
   ]
  },
  {
   "cell_type": "code",
   "execution_count": 0,
   "metadata": {
    "application/vnd.databricks.v1+cell": {
     "cellMetadata": {
      "byteLimit": 2048000,
      "rowLimit": 10000
     },
     "inputWidgets": {},
     "nuid": "bef86d47-b111-4091-bc60-a4d9e6f365bf",
     "showTitle": false,
     "tableResultSettingsMap": {},
     "title": ""
    }
   },
   "outputs": [],
   "source": [
    "trip_df = trip_df.drop('store_and_fwd_flag', \"Airport_fee\", \"DOLocationID\", \"PULocationID\", \"RatecodeID\", \"congestion_surcharge\", \"extra\", \"mta_tax\", \"payment_type\", \"tolls_amount\", \"improvement_surcharge\", \"congestion\", \"fare_amount\", \"tip_amount\")\n",
    "weather_df = weather_df.drop(\"DEWP\", \"FRSHTT\", \"MXSPD\", \"SLP\", \"SNDP\", \"STP\", \"VISIB\", \"WDSP\", \"GUST\", \"STATION\")\n"
   ]
  },
  {
   "cell_type": "code",
   "execution_count": 0,
   "metadata": {
    "application/vnd.databricks.v1+cell": {
     "cellMetadata": {
      "byteLimit": 2048000,
      "rowLimit": 10000
     },
     "inputWidgets": {},
     "nuid": "4fb26e1c-c5d7-4dbe-92c4-a762ed0215af",
     "showTitle": false,
     "tableResultSettingsMap": {},
     "title": ""
    }
   },
   "outputs": [],
   "source": [
    "trip_df = (\n",
    "    trip_df\n",
    "    .na.drop()\n",
    "    .filter(trip_df.passenger_count > 0)\n",
    ")\n",
    "\n",
    "weather_dfd = (\n",
    "    weather_df\n",
    "    .na.drop()   \n",
    ")"
   ]
  },
  {
   "cell_type": "code",
   "execution_count": 0,
   "metadata": {
    "application/vnd.databricks.v1+cell": {
     "cellMetadata": {
      "byteLimit": 2048000,
      "rowLimit": 10000
     },
     "inputWidgets": {},
     "nuid": "3f1a729f-6b64-48a2-9452-c4611feb277a",
     "showTitle": false,
     "tableResultSettingsMap": {},
     "title": ""
    }
   },
   "outputs": [],
   "source": [
    "trip_df = (\n",
    "    trip_df\n",
    "    .withColumn(\n",
    "    'trip_duartion', \n",
    "    ((unix_timestamp('tpep_dropoff_datetime') - unix_timestamp('tpep_pickup_datetime')) / 60).cast('int')\n",
    "    ) \n",
    "    .withColumn('pickup_date',date_format(col(\"tpep_pickup_datetime\"), \"yyyy-MM-dd\"))\n",
    "    .drop('tpep_pickup_datetime')\n",
    "    .drop('tpep_dropoff_datetime')\n",
    ")\n",
    "\n",
    "weather_df.write.format(\"delta\").mode(\"overwrite\").save(\"/Volumes/workspace/nyc_trips_etl/silver_layer/weather_cleaned\")\n",
    "trip_df.write.format(\"delta\").mode(\"overwrite\").option('mergeSchema', 'true').save(\"/Volumes/workspace/nyc_trips_etl/silver_layer/trip_cleaned\")"
   ]
  },
  {
   "cell_type": "markdown",
   "metadata": {
    "application/vnd.databricks.v1+cell": {
     "cellMetadata": {
      "byteLimit": 2048000,
      "rowLimit": 10000
     },
     "inputWidgets": {},
     "nuid": "bdb24151-ab40-48ac-8100-189584d3b79e",
     "showTitle": false,
     "tableResultSettingsMap": {},
     "title": ""
    }
   },
   "source": [
    "Gold Layer"
   ]
  },
  {
   "cell_type": "code",
   "execution_count": 0,
   "metadata": {
    "application/vnd.databricks.v1+cell": {
     "cellMetadata": {
      "byteLimit": 2048000,
      "rowLimit": 10000
     },
     "inputWidgets": {},
     "nuid": "654ca8ae-8e68-43f7-926e-cfd9596bad80",
     "showTitle": false,
     "tableResultSettingsMap": {},
     "title": ""
    }
   },
   "outputs": [
    {
     "output_type": "display_data",
     "data": {
      "text/html": [
       "<style scoped>\n",
       "  .table-result-container {\n",
       "    max-height: 300px;\n",
       "    overflow: auto;\n",
       "  }\n",
       "  table, th, td {\n",
       "    border: 1px solid black;\n",
       "    border-collapse: collapse;\n",
       "  }\n",
       "  th, td {\n",
       "    padding: 5px;\n",
       "  }\n",
       "  th {\n",
       "    text-align: left;\n",
       "  }\n",
       "</style><div class='table-result-container'><table class='table-result'><thead style='background-color: white'><tr><th>STATION</th><th>DATE</th><th>MAX</th><th>MIN</th><th>PRCP</th><th>TEMP</th></tr></thead><tbody><tr><td>null</td><td>2023-01-01</td><td>55.0</td><td>50.0</td><td>0.28</td><td>52.4</td></tr><tr><td>null</td><td>2023-01-02</td><td>55.9</td><td>48.9</td><td>0.0</td><td>52.0</td></tr><tr><td>null</td><td>2023-01-03</td><td>57.0</td><td>46.4</td><td>0.04</td><td>51.6</td></tr><tr><td>null</td><td>2023-01-04</td><td>66.0</td><td>46.9</td><td>0.4</td><td>59.1</td></tr><tr><td>null</td><td>2023-01-05</td><td>66.0</td><td>46.9</td><td>0.03</td><td>49.0</td></tr></tbody></table></div>"
      ]
     },
     "metadata": {
      "application/vnd.databricks.v1+output": {
       "addedWidgets": {},
       "aggData": [],
       "aggError": "",
       "aggOverflow": false,
       "aggSchema": [],
       "aggSeriesLimitReached": false,
       "aggType": "",
       "arguments": {},
       "columnCustomDisplayInfos": {},
       "data": [
        [
         null,
         "2023-01-01",
         55.0,
         50.0,
         0.28,
         52.4
        ],
        [
         null,
         "2023-01-02",
         55.9,
         48.9,
         0.0,
         52.0
        ],
        [
         null,
         "2023-01-03",
         57.0,
         46.4,
         0.04,
         51.6
        ],
        [
         null,
         "2023-01-04",
         66.0,
         46.9,
         0.4,
         59.1
        ],
        [
         null,
         "2023-01-05",
         66.0,
         46.9,
         0.03,
         49.0
        ]
       ],
       "datasetInfos": [],
       "dbfsResultPath": null,
       "isJsonSchema": true,
       "metadata": {},
       "overflow": false,
       "plotOptions": {
        "customPlotOptions": {},
        "displayType": "table",
        "pivotAggregation": null,
        "pivotColumns": null,
        "xColumns": null,
        "yColumns": null
       },
       "removedWidgets": [],
       "schema": [
        {
         "metadata": "{}",
         "name": "STATION",
         "type": "\"long\""
        },
        {
         "metadata": "{\"__detected_date_formats\": \"yyyy-M-d\"}",
         "name": "DATE",
         "type": "\"date\""
        },
        {
         "metadata": "{}",
         "name": "MAX",
         "type": "\"double\""
        },
        {
         "metadata": "{}",
         "name": "MIN",
         "type": "\"double\""
        },
        {
         "metadata": "{}",
         "name": "PRCP",
         "type": "\"double\""
        },
        {
         "metadata": "{}",
         "name": "TEMP",
         "type": "\"double\""
        }
       ],
       "type": "table"
      }
     },
     "output_type": "display_data"
    },
    {
     "output_type": "display_data",
     "data": {
      "text/html": [
       "<style scoped>\n",
       "  .table-result-container {\n",
       "    max-height: 300px;\n",
       "    overflow: auto;\n",
       "  }\n",
       "  table, th, td {\n",
       "    border: 1px solid black;\n",
       "    border-collapse: collapse;\n",
       "  }\n",
       "  th, td {\n",
       "    padding: 5px;\n",
       "  }\n",
       "  th {\n",
       "    text-align: left;\n",
       "  }\n",
       "</style><div class='table-result-container'><table class='table-result'><thead style='background-color: white'><tr><th>VendorID</th><th>passenger_count</th><th>trip_distance</th><th>total_amount</th><th>trip_duartion</th><th>pickup_date</th></tr></thead><tbody><tr><td>2</td><td>1</td><td>1.72</td><td>22.7</td><td>19</td><td>2024-01-01</td></tr><tr><td>1</td><td>1</td><td>1.8</td><td>18.75</td><td>6</td><td>2024-01-01</td></tr><tr><td>1</td><td>1</td><td>4.7</td><td>31.3</td><td>17</td><td>2024-01-01</td></tr><tr><td>1</td><td>1</td><td>1.4</td><td>17.0</td><td>8</td><td>2024-01-01</td></tr><tr><td>1</td><td>1</td><td>0.8</td><td>16.1</td><td>6</td><td>2024-01-01</td></tr></tbody></table></div>"
      ]
     },
     "metadata": {
      "application/vnd.databricks.v1+output": {
       "addedWidgets": {},
       "aggData": [],
       "aggError": "",
       "aggOverflow": false,
       "aggSchema": [],
       "aggSeriesLimitReached": false,
       "aggType": "",
       "arguments": {},
       "columnCustomDisplayInfos": {},
       "data": [
        [
         2,
         1,
         1.72,
         22.7,
         19,
         "2024-01-01"
        ],
        [
         1,
         1,
         1.8,
         18.75,
         6,
         "2024-01-01"
        ],
        [
         1,
         1,
         4.7,
         31.3,
         17,
         "2024-01-01"
        ],
        [
         1,
         1,
         1.4,
         17.0,
         8,
         "2024-01-01"
        ],
        [
         1,
         1,
         0.8,
         16.1,
         6,
         "2024-01-01"
        ]
       ],
       "datasetInfos": [],
       "dbfsResultPath": null,
       "isJsonSchema": true,
       "metadata": {},
       "overflow": false,
       "plotOptions": {
        "customPlotOptions": {},
        "displayType": "table",
        "pivotAggregation": null,
        "pivotColumns": null,
        "xColumns": null,
        "yColumns": null
       },
       "removedWidgets": [],
       "schema": [
        {
         "metadata": "{}",
         "name": "VendorID",
         "type": "\"integer\""
        },
        {
         "metadata": "{}",
         "name": "passenger_count",
         "type": "\"long\""
        },
        {
         "metadata": "{}",
         "name": "trip_distance",
         "type": "\"double\""
        },
        {
         "metadata": "{}",
         "name": "total_amount",
         "type": "\"double\""
        },
        {
         "metadata": "{}",
         "name": "trip_duartion",
         "type": "\"integer\""
        },
        {
         "metadata": "{}",
         "name": "pickup_date",
         "type": "\"string\""
        }
       ],
       "type": "table"
      }
     },
     "output_type": "display_data"
    }
   ],
   "source": [
    "weather_cleaned_df = spark.read.format(\"delta\").load(\"/Volumes/workspace/nyc_trips_etl/silver_layer/weather_cleaned\")\n",
    "trip_cleaned_df = spark.read.format(\"delta\").load(\"/Volumes/workspace/nyc_trips_etl/silver_layer/trip_cleaned\")\n",
    "display(weather_cleaned_df.limit(5))\n",
    "display(trip_cleaned_df.limit(5))"
   ]
  },
  {
   "cell_type": "code",
   "execution_count": 0,
   "metadata": {
    "application/vnd.databricks.v1+cell": {
     "cellMetadata": {
      "byteLimit": 2048000,
      "rowLimit": 10000
     },
     "inputWidgets": {},
     "nuid": "5a0cb399-dcc4-437b-88e9-ab107d39c7a7",
     "showTitle": false,
     "tableResultSettingsMap": {},
     "title": ""
    }
   },
   "outputs": [
    {
     "output_type": "display_data",
     "data": {
      "text/html": [
       "<style scoped>\n",
       "  .table-result-container {\n",
       "    max-height: 300px;\n",
       "    overflow: auto;\n",
       "  }\n",
       "  table, th, td {\n",
       "    border: 1px solid black;\n",
       "    border-collapse: collapse;\n",
       "  }\n",
       "  th, td {\n",
       "    padding: 5px;\n",
       "  }\n",
       "  th {\n",
       "    text-align: left;\n",
       "  }\n",
       "</style><div class='table-result-container'><table class='table-result'><thead style='background-color: white'><tr><th>pickup_date</th><th>PRCP</th><th>trip_count</th><th>avg_duration</th><th>avg_fare</th></tr></thead><tbody><tr><td>2024-01-24</td><td>0.06</td><td>100376</td><td>16</td><td>26</td></tr><tr><td>2024-01-02</td><td>0.02</td><td>72668</td><td>16</td><td>30</td></tr><tr><td>2024-01-22</td><td>0.0</td><td>81687</td><td>15</td><td>27</td></tr><tr><td>2024-01-03</td><td>0.0</td><td>79670</td><td>16</td><td>28</td></tr><tr><td>2024-01-20</td><td>0.04</td><td>99194</td><td>13</td><td>23</td></tr></tbody></table></div>"
      ]
     },
     "metadata": {
      "application/vnd.databricks.v1+output": {
       "addedWidgets": {},
       "aggData": [],
       "aggError": "",
       "aggOverflow": false,
       "aggSchema": [],
       "aggSeriesLimitReached": false,
       "aggType": "",
       "arguments": {},
       "columnCustomDisplayInfos": {},
       "data": [
        [
         "2024-01-24",
         0.06,
         100376,
         16,
         26
        ],
        [
         "2024-01-02",
         0.02,
         72668,
         16,
         30
        ],
        [
         "2024-01-22",
         0.0,
         81687,
         15,
         27
        ],
        [
         "2024-01-03",
         0.0,
         79670,
         16,
         28
        ],
        [
         "2024-01-20",
         0.04,
         99194,
         13,
         23
        ]
       ],
       "datasetInfos": [],
       "dbfsResultPath": null,
       "isJsonSchema": true,
       "metadata": {},
       "overflow": false,
       "plotOptions": {
        "customPlotOptions": {},
        "displayType": "table",
        "pivotAggregation": null,
        "pivotColumns": null,
        "xColumns": null,
        "yColumns": null
       },
       "removedWidgets": [],
       "schema": [
        {
         "metadata": "{}",
         "name": "pickup_date",
         "type": "\"string\""
        },
        {
         "metadata": "{}",
         "name": "PRCP",
         "type": "\"double\""
        },
        {
         "metadata": "{}",
         "name": "trip_count",
         "type": "\"long\""
        },
        {
         "metadata": "{}",
         "name": "avg_duration",
         "type": "\"integer\""
        },
        {
         "metadata": "{}",
         "name": "avg_fare",
         "type": "\"integer\""
        }
       ],
       "type": "table"
      }
     },
     "output_type": "display_data"
    }
   ],
   "source": [
    "from pyspark.sql import functions as F\n",
    "\n",
    "merged_df = weather_cleaned_df.join(trip_cleaned_df, \n",
    "                                    trip_cleaned_df.pickup_date == weather_cleaned_df.DATE, 'inner')\n",
    "merged_df = merged_df.groupBy('pickup_date', 'PRCP') \\\n",
    "    .agg(\n",
    "        F.count('*').alias('trip_count'),\n",
    "        F.avg('trip_duartion').alias('avg_duration').cast('int'),\n",
    "        F.avg('total_amount').alias('avg_fare').cast('int')\n",
    "    )\n",
    "display(merged_df.limit(5))\n",
    "merged_df.write.format(\"delta\").mode(\"overwrite\").option('mergeSchema', 'true').save(\"/Volumes/workspace/nyc_trips_etl/gold_layer/taxi_weather_delta\")"
   ]
  },
  {
   "cell_type": "code",
   "execution_count": 0,
   "metadata": {
    "application/vnd.databricks.v1+cell": {
     "cellMetadata": {
      "byteLimit": 2048000,
      "rowLimit": 10000
     },
     "inputWidgets": {},
     "nuid": "61c50cee-51d9-4daf-9641-ee9e0d2d986f",
     "showTitle": false,
     "tableResultSettingsMap": {},
     "title": ""
    }
   },
   "outputs": [
    {
     "output_type": "display_data",
     "data": {
      "text/html": [
       "<style scoped>\n",
       "  .table-result-container {\n",
       "    max-height: 300px;\n",
       "    overflow: auto;\n",
       "  }\n",
       "  table, th, td {\n",
       "    border: 1px solid black;\n",
       "    border-collapse: collapse;\n",
       "  }\n",
       "  th, td {\n",
       "    padding: 5px;\n",
       "  }\n",
       "  th {\n",
       "    text-align: left;\n",
       "  }\n",
       "</style><div class='table-result-container'><table class='table-result'><thead style='background-color: white'><tr><th>PRCP</th><th>mean_fare</th></tr></thead><tbody><tr><td>1.95</td><td>26.0</td></tr><tr><td>0.0</td><td>26.333333333333332</td></tr><tr><td>0.11</td><td>27.0</td></tr><tr><td>0.13</td><td>28.0</td></tr><tr><td>0.54</td><td>28.0</td></tr><tr><td>0.03</td><td>24.0</td></tr><tr><td>0.81</td><td>26.0</td></tr><tr><td>0.04</td><td>23.0</td></tr><tr><td>0.05</td><td>26.0</td></tr><tr><td>0.01</td><td>30.0</td></tr><tr><td>0.46</td><td>27.0</td></tr><tr><td>0.06</td><td>26.0</td></tr><tr><td>0.22</td><td>27.0</td></tr><tr><td>0.25</td><td>26.0</td></tr><tr><td>0.89</td><td>25.0</td></tr><tr><td>0.41</td><td>26.0</td></tr><tr><td>0.02</td><td>30.0</td></tr><tr><td>0.19</td><td>27.0</td></tr></tbody></table></div>"
      ]
     },
     "metadata": {
      "application/vnd.databricks.v1+output": {
       "addedWidgets": {},
       "aggData": [],
       "aggError": "",
       "aggOverflow": false,
       "aggSchema": [],
       "aggSeriesLimitReached": false,
       "aggType": "",
       "arguments": {},
       "columnCustomDisplayInfos": {},
       "data": [
        [
         1.95,
         26.0
        ],
        [
         0.0,
         26.333333333333332
        ],
        [
         0.11,
         27.0
        ],
        [
         0.13,
         28.0
        ],
        [
         0.54,
         28.0
        ],
        [
         0.03,
         24.0
        ],
        [
         0.81,
         26.0
        ],
        [
         0.04,
         23.0
        ],
        [
         0.05,
         26.0
        ],
        [
         0.01,
         30.0
        ],
        [
         0.46,
         27.0
        ],
        [
         0.06,
         26.0
        ],
        [
         0.22,
         27.0
        ],
        [
         0.25,
         26.0
        ],
        [
         0.89,
         25.0
        ],
        [
         0.41,
         26.0
        ],
        [
         0.02,
         30.0
        ],
        [
         0.19,
         27.0
        ]
       ],
       "datasetInfos": [],
       "dbfsResultPath": null,
       "isJsonSchema": true,
       "metadata": {},
       "overflow": false,
       "plotOptions": {
        "customPlotOptions": {},
        "displayType": "table",
        "pivotAggregation": null,
        "pivotColumns": null,
        "xColumns": null,
        "yColumns": null
       },
       "removedWidgets": [],
       "schema": [
        {
         "metadata": "{}",
         "name": "PRCP",
         "type": "\"double\""
        },
        {
         "metadata": "{}",
         "name": "mean_fare",
         "type": "\"double\""
        }
       ],
       "type": "table"
      }
     },
     "output_type": "display_data"
    }
   ],
   "source": [
    "# Example: Compare fares on rainy vs. clear days\n",
    "display(merged_df.groupBy(\"PRCP\").agg(avg(\"avg_fare\").alias(\"mean_fare\")))\n"
   ]
  }
 ],
 "metadata": {
  "application/vnd.databricks.v1+notebook": {
   "computePreferences": {
    "hardware": {
     "accelerator": null,
     "gpuPoolId": null,
     "memory": "HIGH"
    }
   },
   "dashboards": [],
   "environmentMetadata": {
    "base_environment": "",
    "environment_version": "2"
   },
   "inputWidgetPreferences": null,
   "language": "python",
   "notebookMetadata": {
    "pythonIndentUnit": 4
   },
   "notebookName": "nyc_trip_etl",
   "widgets": {}
  },
  "language_info": {
   "name": "python"
  }
 },
 "nbformat": 4,
 "nbformat_minor": 0
}